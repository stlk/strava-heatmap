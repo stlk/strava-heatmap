{
 "cells": [
  {
   "cell_type": "code",
   "execution_count": 1,
   "metadata": {
    "collapsed": true
   },
   "outputs": [],
   "source": [
    "import settings\n",
    "from stravalib.client import Client\n",
    "\n",
    "client = Client(access_token = settings.STRAVA_ACCESS_TOKEN)"
   ]
  },
  {
   "cell_type": "code",
   "execution_count": 2,
   "metadata": {},
   "outputs": [
    {
     "name": "stderr",
     "output_type": "stream",
     "text": [
      "No such attribute utc_offset on entity <Activity id=966385547 name='Afternoon Ride' resource_state=2>\n",
      "No such attribute utc_offset on entity <Activity id=956244362 name='Afternoon Ride' resource_state=2>\n",
      "No such attribute utc_offset on entity <Activity id=955946168 name='Lunch Ride' resource_state=2>\n",
      "No such attribute utc_offset on entity <Activity id=943309211 name='Afternoon Ride' resource_state=2>\n",
      "No such attribute utc_offset on entity <Activity id=941880087 name='Afternoon Ride' resource_state=2>\n",
      "No such attribute utc_offset on entity <Activity id=935203732 name='Skoro do Černošic' resource_state=2>\n",
      "No such attribute utc_offset on entity <Activity id=933308245 name='Afternoon Ride' resource_state=2>\n",
      "No such attribute utc_offset on entity <Activity id=932548946 name='Cesta do MSD' resource_state=2>\n",
      "No such attribute utc_offset on entity <Activity id=923385360 name='Afternoon Ride' resource_state=2>\n",
      "No such attribute utc_offset on entity <Activity id=922920924 name='Převoz kola z Proseka' resource_state=2>\n",
      "No such attribute utc_offset on entity <Activity id=915539656 name='Afternoon Ride' resource_state=2>\n",
      "No such attribute utc_offset on entity <Activity id=870824793 name='Afternoon Ride' resource_state=2>\n",
      "No such attribute utc_offset on entity <Activity id=839357146 name='Afternoon Hike' resource_state=2>\n",
      "No such attribute utc_offset on entity <Activity id=824995941 name='Morning Run' resource_state=2>\n",
      "No such attribute utc_offset on entity <Activity id=823012834 name='Lunch Run' resource_state=2>\n",
      "No such attribute utc_offset on entity <Activity id=797846011 name='Evening Ride' resource_state=2>\n",
      "No such attribute utc_offset on entity <Activity id=797704836 name='Afternoon Ride' resource_state=2>\n",
      "No such attribute utc_offset on entity <Activity id=791799342 name='Afternoon Ride' resource_state=2>\n",
      "No such attribute utc_offset on entity <Activity id=791488647 name='Afternoon Ride' resource_state=2>\n",
      "No such attribute utc_offset on entity <Activity id=789570593 name='Cesta do Čakovic' resource_state=2>\n",
      "No such attribute utc_offset on entity <Activity id=788050152 name='Afternoon Ride' resource_state=2>\n",
      "No such attribute utc_offset on entity <Activity id=788030859 name='Afternoon Ride' resource_state=2>\n",
      "No such attribute utc_offset on entity <Activity id=787807276 name='Cesta do Hubu' resource_state=2>\n",
      "No such attribute utc_offset on entity <Activity id=787230383 name='Afternoon Ride' resource_state=2>\n",
      "No such attribute utc_offset on entity <Activity id=781783711 name='Afternoon Ride' resource_state=2>\n",
      "No such attribute utc_offset on entity <Activity id=781688319 name='Afternoon Ride' resource_state=2>\n",
      "No such attribute utc_offset on entity <Activity id=781663652 name='Afternoon Ride' resource_state=2>\n",
      "No such attribute utc_offset on entity <Activity id=781651859 name='Afternoon Ride' resource_state=2>\n",
      "No such attribute utc_offset on entity <Activity id=769454536 name='Lunch Ride' resource_state=2>\n",
      "No such attribute utc_offset on entity <Activity id=746172569 name='Morning Ride' resource_state=2>\n",
      "No such attribute utc_offset on entity <Activity id=745529077 name='Afternoon Ride' resource_state=2>\n",
      "No such attribute utc_offset on entity <Activity id=725913806 name='Evening Ride' resource_state=2>\n",
      "No such attribute utc_offset on entity <Activity id=725701632 name='Afternoon Ride' resource_state=2>\n",
      "No such attribute utc_offset on entity <Activity id=722185636 name='Afternoon Ride' resource_state=2>\n",
      "No such attribute utc_offset on entity <Activity id=722149642 name='Afternoon Ride' resource_state=2>\n",
      "No such attribute utc_offset on entity <Activity id=721806148 name='Morning Ride' resource_state=2>\n",
      "No such attribute utc_offset on entity <Activity id=721284836 name='Evening Ride' resource_state=2>\n",
      "No such attribute utc_offset on entity <Activity id=721141852 name='Afternoon Ride' resource_state=2>\n",
      "No such attribute utc_offset on entity <Activity id=714456201 name='Evening Ride' resource_state=2>\n",
      "No such attribute utc_offset on entity <Activity id=714282523 name='Afternoon Ride' resource_state=2>\n",
      "No such attribute utc_offset on entity <Activity id=713920950 name='Morning Ride' resource_state=2>\n",
      "No such attribute utc_offset on entity <Activity id=710896929 name='Afternoon Ride' resource_state=2>\n",
      "No such attribute utc_offset on entity <Activity id=698861431 name='Afternoon Ride' resource_state=2>\n",
      "No such attribute utc_offset on entity <Activity id=698849169 name='Afternoon Ride' resource_state=2>\n",
      "No such attribute utc_offset on entity <Activity id=698587841 name='Cesta do přístavu na \"novém\" kole' resource_state=2>\n",
      "No such attribute utc_offset on entity <Activity id=681796227 name='Evening Ride' resource_state=2>\n",
      "No such attribute utc_offset on entity <Activity id=681766069 name='Afternoon Ride' resource_state=2>\n",
      "No such attribute utc_offset on entity <Activity id=675828915 name='Afternoon Ride' resource_state=2>\n",
      "No such attribute utc_offset on entity <Activity id=674367753 name='Afternoon Ride' resource_state=2>\n",
      "No such attribute utc_offset on entity <Activity id=670936220 name='Morning Ride' resource_state=2>\n",
      "No such attribute utc_offset on entity <Activity id=667653152 name='Výlet do kavárny II' resource_state=2>\n",
      "No such attribute utc_offset on entity <Activity id=652188136 name='Evening Ride' resource_state=2>\n",
      "No such attribute utc_offset on entity <Activity id=652014415 name='Afternoon Ride' resource_state=2>\n",
      "No such attribute utc_offset on entity <Activity id=650661276 name='Výlet do kavárny ' resource_state=2>\n",
      "No such attribute utc_offset on entity <Activity id=650403659 name='Afternoon Ride' resource_state=2>\n",
      "No such attribute utc_offset on entity <Activity id=644942060 name='Do obchodaku' resource_state=2>\n",
      "No such attribute utc_offset on entity <Activity id=642635744 name='Lunch Ride' resource_state=2>\n",
      "No such attribute utc_offset on entity <Activity id=642454634 name='Morning Ride' resource_state=2>\n",
      "No such attribute utc_offset on entity <Activity id=638700060 name='Evening Ride' resource_state=2>\n",
      "No such attribute utc_offset on entity <Activity id=635102300 name='Černý důl' resource_state=2>\n",
      "No such attribute utc_offset on entity <Activity id=634000071 name='Cesta domu' resource_state=2>\n",
      "No such attribute utc_offset on entity <Activity id=633877041 name='Cesta do Hubu' resource_state=2>\n",
      "No such attribute utc_offset on entity <Activity id=628769330 name='Kopec' resource_state=2>\n",
      "No such attribute utc_offset on entity <Activity id=628541938 name='Afternoon Ride' resource_state=2>\n",
      "No such attribute utc_offset on entity <Activity id=626576468 name='Pracovna - Přístav - Domů' resource_state=2>\n",
      "No such attribute utc_offset on entity <Activity id=626369697 name='Cesta do Pracovny' resource_state=2>\n",
      "No such attribute utc_offset on entity <Activity id=621631690 name='Afternoon Ride' resource_state=2>\n",
      "No such attribute utc_offset on entity <Activity id=620064513 name='Lunch Ride' resource_state=2>\n",
      "No such attribute utc_offset on entity <Activity id=619942850 name='Morning Ride' resource_state=2>\n",
      "No such attribute utc_offset on entity <Activity id=610927678 name='Cesta na pilu' resource_state=2>\n",
      "No such attribute utc_offset on entity <Activity id=608974566 name='Afternoon Ride' resource_state=2>\n",
      "No such attribute utc_offset on entity <Activity id=605742086 name='Saturday Ride' resource_state=2>\n",
      "No such attribute utc_offset on entity <Activity id=966385547 name='Afternoon Ride' resource_state=3>\n",
      "No such attribute utc_offset on entity <Activity id=956244362 name='Afternoon Ride' resource_state=3>\n",
      "No such attribute utc_offset on entity <Activity id=955946168 name='Lunch Ride' resource_state=3>\n",
      "No such attribute utc_offset on entity <Activity id=943309211 name='Afternoon Ride' resource_state=3>\n",
      "No such attribute utc_offset on entity <Activity id=941880087 name='Afternoon Ride' resource_state=3>\n",
      "No such attribute utc_offset on entity <Activity id=935203732 name='Skoro do Černošic' resource_state=3>\n",
      "No such attribute utc_offset on entity <Activity id=933308245 name='Afternoon Ride' resource_state=3>\n",
      "No such attribute utc_offset on entity <Activity id=932548946 name='Cesta do MSD' resource_state=3>\n",
      "No such attribute utc_offset on entity <Activity id=923385360 name='Afternoon Ride' resource_state=3>\n"
     ]
    },
    {
     "name": "stderr",
     "output_type": "stream",
     "text": [
      "No such attribute utc_offset on entity <Activity id=922920924 name='Převoz kola z Proseka' resource_state=3>\n",
      "No such attribute utc_offset on entity <Activity id=915539656 name='Afternoon Ride' resource_state=3>\n",
      "No such attribute utc_offset on entity <Activity id=870824793 name='Afternoon Ride' resource_state=3>\n",
      "No such attribute utc_offset on entity <Activity id=839357146 name='Afternoon Hike' resource_state=3>\n",
      "No such attribute utc_offset on entity <Activity id=824995941 name='Morning Run' resource_state=3>\n",
      "No such attribute similar_activities on entity <Activity id=824995941 name='Morning Run' resource_state=3>\n",
      "No such attribute utc_offset on entity <Activity id=823012834 name='Lunch Run' resource_state=3>\n",
      "No such attribute similar_activities on entity <Activity id=823012834 name='Lunch Run' resource_state=3>\n",
      "No such attribute utc_offset on entity <Activity id=797846011 name='Evening Ride' resource_state=3>\n",
      "No such attribute utc_offset on entity <Activity id=797704836 name='Afternoon Ride' resource_state=3>\n",
      "No such attribute utc_offset on entity <Activity id=791799342 name='Afternoon Ride' resource_state=3>\n",
      "No such attribute utc_offset on entity <Activity id=791488647 name='Afternoon Ride' resource_state=3>\n",
      "No such attribute utc_offset on entity <Activity id=789570593 name='Cesta do Čakovic' resource_state=3>\n",
      "No such attribute utc_offset on entity <Activity id=788050152 name='Afternoon Ride' resource_state=3>\n",
      "No such attribute utc_offset on entity <Activity id=788030859 name='Afternoon Ride' resource_state=3>\n",
      "No such attribute utc_offset on entity <Activity id=787807276 name='Cesta do Hubu' resource_state=3>\n",
      "No such attribute utc_offset on entity <Activity id=787230383 name='Afternoon Ride' resource_state=3>\n",
      "No such attribute utc_offset on entity <Activity id=781783711 name='Afternoon Ride' resource_state=3>\n",
      "No such attribute utc_offset on entity <Activity id=781688319 name='Afternoon Ride' resource_state=3>\n",
      "No such attribute utc_offset on entity <Activity id=781663652 name='Afternoon Ride' resource_state=3>\n",
      "No such attribute utc_offset on entity <Activity id=781651859 name='Afternoon Ride' resource_state=3>\n",
      "No such attribute utc_offset on entity <Activity id=769454536 name='Lunch Ride' resource_state=3>\n",
      "No such attribute utc_offset on entity <Activity id=746172569 name='Morning Ride' resource_state=3>\n",
      "No such attribute utc_offset on entity <Activity id=745529077 name='Afternoon Ride' resource_state=3>\n",
      "No such attribute utc_offset on entity <Activity id=725913806 name='Evening Ride' resource_state=3>\n",
      "No such attribute utc_offset on entity <Activity id=725701632 name='Afternoon Ride' resource_state=3>\n",
      "No such attribute utc_offset on entity <Activity id=722185636 name='Afternoon Ride' resource_state=3>\n",
      "No such attribute utc_offset on entity <Activity id=722149642 name='Afternoon Ride' resource_state=3>\n",
      "No such attribute utc_offset on entity <Activity id=721806148 name='Morning Ride' resource_state=3>\n",
      "No such attribute utc_offset on entity <Activity id=721284836 name='Evening Ride' resource_state=3>\n",
      "No such attribute utc_offset on entity <Activity id=721141852 name='Afternoon Ride' resource_state=3>\n",
      "No such attribute utc_offset on entity <Activity id=714456201 name='Evening Ride' resource_state=3>\n",
      "No such attribute utc_offset on entity <Activity id=714282523 name='Afternoon Ride' resource_state=3>\n",
      "No such attribute utc_offset on entity <Activity id=713920950 name='Morning Ride' resource_state=3>\n",
      "No such attribute utc_offset on entity <Activity id=710896929 name='Afternoon Ride' resource_state=3>\n",
      "No such attribute utc_offset on entity <Activity id=698861431 name='Afternoon Ride' resource_state=3>\n",
      "No such attribute utc_offset on entity <Activity id=698849169 name='Afternoon Ride' resource_state=3>\n",
      "No such attribute utc_offset on entity <Activity id=698587841 name='Cesta do přístavu na \"novém\" kole' resource_state=3>\n",
      "No such attribute utc_offset on entity <Activity id=681796227 name='Evening Ride' resource_state=3>\n",
      "No such attribute utc_offset on entity <Activity id=681766069 name='Afternoon Ride' resource_state=3>\n",
      "No such attribute utc_offset on entity <Activity id=675828915 name='Afternoon Ride' resource_state=3>\n",
      "No such attribute utc_offset on entity <Activity id=674367753 name='Afternoon Ride' resource_state=3>\n",
      "No such attribute utc_offset on entity <Activity id=670936220 name='Morning Ride' resource_state=3>\n",
      "No such attribute utc_offset on entity <Activity id=667653152 name='Výlet do kavárny II' resource_state=3>\n",
      "No such attribute utc_offset on entity <Activity id=652188136 name='Evening Ride' resource_state=3>\n",
      "No such attribute utc_offset on entity <Activity id=652014415 name='Afternoon Ride' resource_state=3>\n",
      "No such attribute utc_offset on entity <Activity id=650661276 name='Výlet do kavárny ' resource_state=3>\n",
      "No such attribute utc_offset on entity <Activity id=650403659 name='Afternoon Ride' resource_state=3>\n",
      "No such attribute utc_offset on entity <Activity id=644942060 name='Do obchodaku' resource_state=3>\n",
      "No such attribute utc_offset on entity <Activity id=642635744 name='Lunch Ride' resource_state=3>\n",
      "No such attribute utc_offset on entity <Activity id=642454634 name='Morning Ride' resource_state=3>\n",
      "No such attribute utc_offset on entity <Activity id=638700060 name='Evening Ride' resource_state=3>\n",
      "No such attribute utc_offset on entity <Activity id=635102300 name='Černý důl' resource_state=3>\n",
      "No such attribute similar_activities on entity <Activity id=635102300 name='Černý důl' resource_state=3>\n",
      "No such attribute utc_offset on entity <Activity id=634000071 name='Cesta domu' resource_state=3>\n",
      "No such attribute utc_offset on entity <Activity id=633877041 name='Cesta do Hubu' resource_state=3>\n",
      "No such attribute utc_offset on entity <Activity id=628769330 name='Kopec' resource_state=3>\n",
      "No such attribute utc_offset on entity <Activity id=628541938 name='Afternoon Ride' resource_state=3>\n",
      "No such attribute utc_offset on entity <Activity id=626576468 name='Pracovna - Přístav - Domů' resource_state=3>\n",
      "No such attribute utc_offset on entity <Activity id=626369697 name='Cesta do Pracovny' resource_state=3>\n",
      "No such attribute utc_offset on entity <Activity id=621631690 name='Afternoon Ride' resource_state=3>\n",
      "No such attribute utc_offset on entity <Activity id=620064513 name='Lunch Ride' resource_state=3>\n",
      "No such attribute utc_offset on entity <Activity id=619942850 name='Morning Ride' resource_state=3>\n",
      "No such attribute utc_offset on entity <Activity id=610927678 name='Cesta na pilu' resource_state=3>\n",
      "No such attribute utc_offset on entity <Activity id=608974566 name='Afternoon Ride' resource_state=3>\n",
      "No such attribute utc_offset on entity <Activity id=605742086 name='Saturday Ride' resource_state=3>\n"
     ]
    }
   ],
   "source": [
    "import polyline\n",
    "import functools\n",
    "\n",
    "polylines = map(lambda a: client.get_activity(a.id).map.polyline, client.get_activities())\n",
    "points = map(lambda p: polyline.decode(p), polylines)\n",
    "points = functools.reduce(lambda x, y: x + y, points, [])"
   ]
  },
  {
   "cell_type": "code",
   "execution_count": 3,
   "metadata": {},
   "outputs": [
    {
     "data": {
      "application/vnd.jupyter.widget-view+json": {
       "model_id": "fa6120089e9a4a6495c018d6940ce7de"
      }
     },
     "metadata": {},
     "output_type": "display_data"
    }
   ],
   "source": [
    "import gmaps\n",
    "gmaps.configure(api_key = settings.GOOGLE_API_KEY)\n",
    "\n",
    "m = gmaps.Map()\n",
    "m.add_layer(gmaps.heatmap_layer(points))\n",
    "m"
   ]
  },
  {
   "cell_type": "code",
   "execution_count": null,
   "metadata": {
    "collapsed": true
   },
   "outputs": [],
   "source": []
  }
 ],
 "metadata": {
  "kernelspec": {
   "display_name": "Python 3",
   "language": "python",
   "name": "python3"
  },
  "language_info": {
   "codemirror_mode": {
    "name": "ipython",
    "version": 3
   },
   "file_extension": ".py",
   "mimetype": "text/x-python",
   "name": "python",
   "nbconvert_exporter": "python",
   "pygments_lexer": "ipython3",
   "version": "3.6.1"
  }
 },
 "nbformat": 4,
 "nbformat_minor": 2
}
